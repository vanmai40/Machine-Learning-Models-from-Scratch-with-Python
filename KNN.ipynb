{
 "cells": [
  {
   "cell_type": "markdown",
   "id": "37b2b47f",
   "metadata": {},
   "source": [
    "# KNN classification\n",
    "Predict the label of a data point depend on the labels of K nearest neighbours. Distance using here is Euclidean distance. <br><br>\n",
    "Euclidean distance: $ d\\left( p,q\\right)   = \\sqrt {\\sum _{i=1}^{n}  \\left( q_{i}-p_{i}\\right)^2 } $\n",
    "![](pics/knn.pic1.png)\n",
    "![](pics/knn.pic2.png)"
   ]
  },
  {
   "cell_type": "code",
   "execution_count": 46,
   "id": "c35f18bd",
   "metadata": {
    "ExecuteTime": {
     "end_time": "2022-02-05T23:20:55.411689Z",
     "start_time": "2022-02-05T23:20:55.400697Z"
    }
   },
   "outputs": [],
   "source": [
    "import numpy as np\n",
    "from collections import Counter\n",
    "\n",
    "\n",
    "class KNN:\n",
    "    \n",
    "    def __init__(self, k=3):\n",
    "        self.k = k\n",
    "        return\n",
    "    \n",
    "    def fit(self, X, y):\n",
    "        self.X_train = X\n",
    "        self.y_train = y\n",
    "        return\n",
    "        \n",
    "    \n",
    "\n",
    "        \n",
    "    def ucli_distance(self, x1, x2):\n",
    "        return np.sqrt(sum((x1-x2)**2))\n",
    "            \n",
    "        \n",
    "        \n",
    "    def predict_one(self, x):\n",
    "        distances = [self.ucli_distance(x,x_train) for x_train in self.X_train]\n",
    "        top_k = np.argsort(distances)[:self.k]\n",
    "        top_k_labels = [self.y_train[idx] for idx in top_k]\n",
    "        predicted_labels = Counter(top_k_labels).most_common(1)\n",
    "        return predicted_labels[0][0]\n",
    "    \n",
    "    def predict(self, X):\n",
    "        return np.array([self.predict_one(x) for x in X])\n",
    "    \n",
    "    def score(self, X, y):\n",
    "        lst = [yhat==y for (yhat,y) in zip(self.predict(X),y)]\n",
    "        return f'{lst.count(True)/len(lst):.2f}'\n",
    "        \n",
    "        \n",
    "        \n",
    "        "
   ]
  },
  {
   "cell_type": "markdown",
   "id": "37bc12ea",
   "metadata": {},
   "source": [
    "# Time for the Test"
   ]
  },
  {
   "cell_type": "code",
   "execution_count": 89,
   "id": "6f353626",
   "metadata": {
    "ExecuteTime": {
     "end_time": "2022-02-05T23:26:16.114878Z",
     "start_time": "2022-02-05T23:26:16.049003Z"
    }
   },
   "outputs": [
    {
     "name": "stdout",
     "output_type": "stream",
     "text": [
      "y_test: \n",
      "[1 1 2 0 1 0 0 0 1 2 1 0 2 1 0 1 2 0 2 1 1 1 1 1 2 0 2 1 2 0 1 2 0 2 1 0 0\n",
      " 0 0 1 0 1 0 2 2 0 2 2 2 2 0 2 2 1 1 1 1 1 1 0 0 2 2 2 0 0 0 2 1 2 2 1 0 2\n",
      " 0]\n",
      "y_hat: \n",
      "[1 2 2 0 1 0 0 0 1 2 1 0 2 1 0 1 2 0 2 1 1 1 1 1 2 0 1 1 2 0 1 2 0 1 1 0 0\n",
      " 0 0 1 0 1 0 2 2 0 2 2 2 2 0 2 2 1 1 1 1 1 1 0 0 2 2 2 0 0 0 1 1 2 2 1 0 2\n",
      " 0]\n",
      "Accuracy Score: 0.95\n"
     ]
    }
   ],
   "source": [
    "from sklearn import datasets\n",
    "from sklearn.model_selection import train_test_split\n",
    "\n",
    "iris = datasets.load_iris()\n",
    "X, y = iris.data, iris.target\n",
    "X_train, X_test, y_train, y_test = train_test_split(X, y, \n",
    "                                                    test_size= 0.5,\n",
    "                                                    random_state=1234)\n",
    "\n",
    "clf = KNN(k=3)\n",
    "clf.fit(X_train, y_train)\n",
    "print(f'y_test: \\n{y_test}')\n",
    "print(f'y_hat: \\n{clf.predict(X_test)}')\n",
    "print(f'Accuracy Score: {clf.score(X_test, y_test)}')"
   ]
  }
 ],
 "metadata": {
  "kernelspec": {
   "display_name": "Python 3 (ipykernel)",
   "language": "python",
   "name": "python3"
  },
  "language_info": {
   "codemirror_mode": {
    "name": "ipython",
    "version": 3
   },
   "file_extension": ".py",
   "mimetype": "text/x-python",
   "name": "python",
   "nbconvert_exporter": "python",
   "pygments_lexer": "ipython3",
   "version": "3.10.1"
  }
 },
 "nbformat": 4,
 "nbformat_minor": 5
}
