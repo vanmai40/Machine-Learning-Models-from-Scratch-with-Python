{
 "cells": [
  {
   "cell_type": "markdown",
   "id": "4a53802b",
   "metadata": {},
   "source": [
    "# Linear Discriminant Analysis\n",
    "Project dataset into a new space with less dimensions/features with maximizing class-separation\n",
    "<img src=\"pics/lda.pic1.png\" width=\"700\">\n",
    "<img src=\"pics/lda.pic2.png\" width=\"700\">\n",
    "<img src=\"pics/lda.pic3.png\" width=\"700\">\n",
    "<img src=\"pics/lda.pic4.png\" width=\"700\">\n",
    "## Concrete example\n",
    "https://sebastianraschka.com/Articles/2014_python_lda.html \\\n",
    "https://people.revoledu.com/kardi/tutorial/LDA/Numerical%20Example.html"
   ]
  },
  {
   "cell_type": "code",
   "execution_count": 58,
   "id": "dac4f41e",
   "metadata": {
    "ExecuteTime": {
     "end_time": "2022-03-06T19:41:23.922266Z",
     "start_time": "2022-03-06T19:41:23.908198Z"
    }
   },
   "outputs": [],
   "source": [
    " import numpy as np\n",
    "    \n",
    "class LDA:\n",
    "    def __init__(self, K):\n",
    "        self.K = K\n",
    "        self.discriminants = None\n",
    "\n",
    "    def fit(self, X, y):\n",
    "        n_feats = X.shape[1]\n",
    "        classes = np.unique(y)\n",
    "        # sum of in-class matrix\n",
    "        SW = np.zeros((n_feats,n_feats))\n",
    "        # cross-class matrix\n",
    "        SB = np.zeros((n_feats,n_feats))\n",
    "        \n",
    "        # calculate SB, SW\n",
    "        global_mean = np.mean(X, axis=0)        \n",
    "        for cls in classes:\n",
    "            cls_X = X[y==cls]\n",
    "            SW += len(cls_X)*np.cov(cls_X.T)\n",
    "            \n",
    "            cls_mean = np.mean(cls_X, axis=0)\n",
    "            _ = (cls_mean-global_mean).reshape(1, n_feats)\n",
    "            SB += len(cls_X)*np.dot(_.T, _)\n",
    "\n",
    "        A = np.dot(np.linalg.inv(SW), SB)\n",
    "        eigenvalues, eigenvectors = np.linalg.eig(A) \n",
    "        eigenvectors = eigenvectors.T # turn vector into array(row) for index short\n",
    "        \n",
    "        sorted_idxs = np.argsort(abs(eigenvalues))[::-1] # [::-1] to revert the array and get desc order\n",
    "        eigenvalues = eigenvalues[sorted_idxs]\n",
    "        eigenvectors = eigenvectors[sorted_idxs]    \n",
    "        \n",
    "        self.discriminants = eigenvectors[:self.K].T # turn array vectors into column vectors\n",
    "\n",
    "    def transform(self, X):\n",
    "\n",
    "        LDA_X = np.dot(X, self.discriminants)\n",
    "        return LDA_X"
   ]
  },
  {
   "cell_type": "code",
   "execution_count": 59,
   "id": "9e9d97f6",
   "metadata": {
    "ExecuteTime": {
     "end_time": "2022-03-06T19:41:25.258172Z",
     "start_time": "2022-03-06T19:41:25.170387Z"
    },
    "scrolled": true
   },
   "outputs": [
    {
     "data": {
      "image/png": "[encoded data removed]",
      "text/plain": [
       "<Figure size 720x432 with 1 Axes>"
      ]
     },
     "metadata": {
      "needs_background": "light"
     },
     "output_type": "display_data"
    }
   ],
   "source": [
    "from sklearn import datasets\n",
    "import matplotlib.pyplot as plt\n",
    "import numpy as np\n",
    "\n",
    "dataset = datasets.load_iris()\n",
    "X = dataset.data\n",
    "y = dataset.target\n",
    "\n",
    "model = LDA(K=2)\n",
    "model.fit(X, y)\n",
    "LDA_X = model.transform(X)\n",
    "\n",
    "fig, ax = plt.subplots(figsize=(10,6))\n",
    "for cls in np.unique(y):\n",
    "    points = LDA_X[y==cls].T\n",
    "    ax.scatter(*points)\n",
    "\n",
    "plt.show()"
   ]
  }
 ],
 "metadata": {
  "kernelspec": {
   "display_name": "Python 3 (ipykernel)",
   "language": "python",
   "name": "python3"
  },
  "language_info": {
   "codemirror_mode": {
    "name": "ipython",
    "version": 3
   },
   "file_extension": ".py",
   "mimetype": "text/x-python",
   "name": "python",
   "nbconvert_exporter": "python",
   "pygments_lexer": "ipython3",
   "version": "3.10.1"
  }
 },
 "nbformat": 4,
 "nbformat_minor": 5
}
