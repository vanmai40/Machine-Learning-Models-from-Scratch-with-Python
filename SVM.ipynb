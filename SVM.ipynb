{
 "cells": [
  {
   "cell_type": "markdown",
   "id": "044a0d49",
   "metadata": {},
   "source": [
    "# Support Vector Machine - SVM\n",
    "SVM can be used for both regression and classification tasks. But, it is widely used in classification objectives.\\\n",
    "The objective of the support vector machine algorithm is to find a hyperplane in an N-dimensional space(N — the number of features) that distinctly classifies the data points.\n",
    "<img src=\"pics/svm.pic1.png\" width=\"700\">\n",
    "<img src=\"pics/svm.pic2.png\" width=\"800\">\n",
    "## Math conditions\n",
    "<img src=\"pics\\svm.pic4.png\" width=\"400\">\n",
    "\n",
    "${\\displaystyle \\mathbf {w} ^{T}\\mathbf {x} _{i}-b\\geq 1}$ if ${\\displaystyle y_{i}=1}$ \\\n",
    "and \\\n",
    "${\\displaystyle \\mathbf {w} ^{T}\\mathbf {x} _{i}-b\\leq -1}$ if ${\\displaystyle y_{i}=-1}$ \\\n",
    "and combined to \\\n",
    "$$y.f(x)={\\displaystyle y_{i}}({\\displaystyle \\mathbf {w} ^{T}\\mathbf {x} _{i}-b)\\geq 1}$$\n",
    "\n",
    "## Cost/Loss functions\n",
    "how far is the point from the expected lines/boundaries\n",
    "<img src=\"pics/svm.pic3.png\" width=\"500\">\n",
    "## Hinge Loss with Regularization (margin: width of the lane): \n",
    "We want to minimize average loss but also want to maximized margin\n",
    "$$J =\\lambda \\|\\mathbf {w} \\|^{2} + {\\displaystyle {\\frac {1}{n}}\\sum _{i=1}^{n}\\max \\left(0|1-y_{i}(\\mathbf {w} ^{T}\\mathbf {x} -b)\\right)}$$\n",
    "## Gradient Descent\n",
    "Gradient of Loss function\n",
    "<img src=\"pics/svm.pic8.png\" width=\"300\">\n",
    "## Update rules\n",
    "<img src=\"pics/svm.pic9.png\" width=\"300\">"
   ]
  },
  {
   "cell_type": "code",
   "execution_count": 13,
   "id": "6e4cca4c",
   "metadata": {
    "ExecuteTime": {
     "end_time": "2022-02-19T23:38:03.439933Z",
     "start_time": "2022-02-19T23:38:03.430690Z"
    }
   },
   "outputs": [],
   "source": [
    "import numpy as np\n",
    "\n",
    "class SVM:\n",
    "    \n",
    "    def __init__(self, lr = 0.001, lambda_= 0.01, epoch = 1000):\n",
    "        self.lr = lr\n",
    "        self.lambda_ = lambda_\n",
    "        self.epoch = epoch\n",
    "        self.W = None\n",
    "        self.b = None\n",
    "        \n",
    "    def fit(self, X, y):\n",
    "        y = np.where(y <= 0, -1, 1)\n",
    "        n_sample, n_feature =  X.shape\n",
    "        \n",
    "        self.W = np.zeros(n_feature)\n",
    "        self.b = 0\n",
    "        \n",
    "        for _ in range(self.epoch):\n",
    "            for idx, x in enumerate(X):\n",
    "                fx = np.dot(self.W,x) - self.b\n",
    "                if (fx*y[idx] >=1):\n",
    "                    dW = 2*self.lambda_*self.W\n",
    "                    db = 0\n",
    "                else:\n",
    "                    dW = 2*self.lambda_*self.W - y[idx]*x\n",
    "                    db = y[idx]\n",
    "                    \n",
    "                self.W -= self.lr*dW\n",
    "                self.b -= self.lr*db\n",
    "    \n",
    "    def loss(self):\n",
    "        Fx = 1- (np.dot(X, self.W) + self.b)\n",
    "        cost_lst = [0 if fx < 0 else fx for fx in Fx]\n",
    "        cost = np.mean(cost_lst) + self.lambda_*np.linalg.norm(self.W)\n",
    "        return f'{cost:.2f}'                \n",
    "                \n",
    "    \n",
    "    def predict(self, X):\n",
    "        Fx = [np.dot(self.W, x) - self.b for x in X]\n",
    "        #Fx = np.dot(X, self.W) + self.b\n",
    "        y_hat = np.array([1 if fx >0 else -1 for fx in Fx])\n",
    "        #y_hat = np.sign(Fx)\n",
    "        y_label = np.where(y_hat <= 0, 0, 1)\n",
    "        return np.array(y_label)\n",
    "    \n",
    "    def accuracy(self, X, y):\n",
    "        y_label = self.predict(X)\n",
    "        return f'{sum(y_label==y)/len(y):.3f}'\n",
    "    "
   ]
  },
  {
   "cell_type": "code",
   "execution_count": 14,
   "id": "4e777c3d",
   "metadata": {
    "ExecuteTime": {
     "end_time": "2022-02-19T23:38:05.266813Z",
     "start_time": "2022-02-19T23:38:05.029914Z"
    }
   },
   "outputs": [
    {
     "name": "stdout",
     "output_type": "stream",
     "text": [
      "Weights: [0.58977016 0.17946483]\n",
      "Bias: -0.152\n",
      "Loss: 1.94\n"
     ]
    }
   ],
   "source": [
    "from sklearn import datasets\n",
    "from sklearn.model_selection import train_test_split\n",
    "\n",
    "\n",
    "X,y = datasets.make_blobs(n_samples=50,\n",
    "                                  n_features=2,\n",
    "                                  centers=2,\n",
    "                                  cluster_std=1.05,\n",
    "                                  random_state=40)\n",
    "model = SVM()\n",
    "model.fit(X, y)\n",
    "print(f'Weights: {model.W}')\n",
    "print(f'Bias: {model.b:.3f}')\n",
    "print(f'Loss: {model.loss()}')\n"
   ]
  },
  {
   "cell_type": "code",
   "execution_count": 15,
   "id": "7166192b",
   "metadata": {
    "ExecuteTime": {
     "end_time": "2022-02-19T23:38:06.850653Z",
     "start_time": "2022-02-19T23:38:06.555047Z"
    }
   },
   "outputs": [
    {
     "name": "stdout",
     "output_type": "stream",
     "text": [
      "Weights: [0.43202299 0.15667361]\n",
      "Bias: -0.059\n",
      "Loss: 1.65\n",
      "y_test: \n",
      "\t[1 0 1 1 0 1 0 1 1 0 1 0 1 1 0 1 0 0 0 0 0 1 0 0 0 0 0 0 1 0]\n",
      "y_hat: \n",
      "\t[1 0 1 1 0 1 0 1 1 0 1 0 1 1 0 1 0 0 0 0 0 1 0 0 0 0 0 0 1 0]\n",
      "Accuracy Score: 1.000\n"
     ]
    }
   ],
   "source": [
    "X,y = datasets.make_blobs(n_samples=100,\n",
    "                                  n_features=2,\n",
    "                                  centers=2,\n",
    "                                  cluster_std=1.05,\n",
    "                                  random_state=40)\n",
    "\n",
    "X_train, X_test, y_train, y_test = train_test_split(X, y,\n",
    "                                                    test_size=0.3,\n",
    "                                                   random_state=123)\n",
    "\n",
    "model = SVM()\n",
    "model.fit(X_train, y_train)\n",
    "print(f'Weights: {model.W}')\n",
    "print(f'Bias: {model.b:.3f}')\n",
    "print(f'Loss: {model.loss()}')\n",
    "print(f'y_test: \\n\\t{y_test}')\n",
    "print(f'y_hat: \\n\\t{model.predict(X_test)}')\n",
    "print(f'Accuracy Score: {model.accuracy(X_test, y_test)}')"
   ]
  }
 ],
 "metadata": {
  "kernelspec": {
   "display_name": "Python 3 (ipykernel)",
   "language": "python",
   "name": "python3"
  },
  "language_info": {
   "codemirror_mode": {
    "name": "ipython",
    "version": 3
   },
   "file_extension": ".py",
   "mimetype": "text/x-python",
   "name": "python",
   "nbconvert_exporter": "python",
   "pygments_lexer": "ipython3",
   "version": "3.10.1"
  }
 },
 "nbformat": 4,
 "nbformat_minor": 5
}
