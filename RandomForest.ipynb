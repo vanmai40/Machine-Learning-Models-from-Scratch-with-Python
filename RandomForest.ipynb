{
 "cells": [
  {
   "cell_type": "markdown",
   "id": "4e77bead",
   "metadata": {},
   "source": [
    "# Random Forest\n",
    "using a bunch of  decision tree, and pick the labels of the majority \n",
    "<img src=\"pics/rf.pic1.png\" width=\"700\">"
   ]
  },
  {
   "cell_type": "code",
   "execution_count": 16,
   "id": "a4be0517",
   "metadata": {
    "ExecuteTime": {
     "end_time": "2022-02-22T22:17:37.945458Z",
     "start_time": "2022-02-22T22:17:37.933488Z"
    }
   },
   "outputs": [],
   "source": [
    "import numpy as np\n",
    "from Tree import Tree\n",
    "from collections import Counter\n",
    "\n",
    "class Forest:\n",
    "    \n",
    "    def __init__(self, n_tree = 20, min_split=2, max_depth=50, n_feature = None):\n",
    "        self.n_tree = n_tree\n",
    "        self.min_split=2\n",
    "        self.max_depth = max_depth\n",
    "        self.n_feature = n_feature\n",
    "        self.jungle = []\n",
    "        \n",
    "        #sampling with replacement for every data point of the sample \n",
    "    def bootstrap_sampling(self,X,y, portion = 1):\n",
    "        n_sample, _ = X.shape\n",
    "        sub_sample_idx = np.random.choice(n_sample, size = int(portion*n_sample), replace=True)\n",
    "        return X[sub_sample_idx], y[sub_sample_idx]\n",
    "    \n",
    "    def fit(self, X, y):\n",
    "        for _ in range(self.n_tree):\n",
    "            tree = Tree(self.min_split, self.max_depth, self.n_feature)\n",
    "            X_sample, y_sample = self.bootstrap_sampling(X,y)\n",
    "            tree.fit(X_sample, y_sample)\n",
    "            self.jungle.append(tree)\n",
    "            \n",
    "\n",
    "    \n",
    "    def predict(self, X):\n",
    "        y_pred = []\n",
    "        for x in X:\n",
    "            y_hats = [tree.traverse(x, tree.root) for tree in self.jungle]\n",
    "            y_hat = Counter(y_hats).most_common(1)[0][0]\n",
    "            y_pred.append(y_hat)\n",
    "        return np.array(y_pred)\n",
    "    \n",
    "    def accuracy(self, X, y):\n",
    "        y_hat = self.predict(X)\n",
    "        score = np.sum(y_hat==y)/len(y)\n",
    "        return f'{score:.3f}'\n",
    "    \n"
   ]
  },
  {
   "cell_type": "code",
   "execution_count": 19,
   "id": "ff053d22",
   "metadata": {
    "ExecuteTime": {
     "end_time": "2022-02-22T22:17:55.963627Z",
     "start_time": "2022-02-22T22:17:53.701771Z"
    }
   },
   "outputs": [
    {
     "name": "stdout",
     "output_type": "stream",
     "text": [
      "y_test: \n",
      "\t[1 1 1 1 1 1 0 1 0 0 0 1 1 1 1 0 1 1 1 0 1 0 0 0 0 1 0 1 1 1 1 1 0 1 1 1 1\n",
      " 0 0 1 0 1 0 1 1 1 1 0 0 1 1 1 1 0 0 1 1 1 1 0 1 1 1 1 1 0 0 1 1 0 1 0 1 0\n",
      " 1 1 1 0 1 0 1 1 1 0 0 0 0 0 1 0 1 0 1 0 0 1 1 1 1 1 0 0 1 1 0 1 1 0 0 1 0\n",
      " 1 0 0 1 1 1 0 1 0 1 1 1 1 0 1 0 0 1 1 1 1 0 1 0 1 1 1 1 0 1 0 0 1 0 1 0 1\n",
      " 0 0 1 1 0 1 1 0 1 0 0 1 1 1 0 1 1 0 1 1 1 1 0 1 1 0 0 1 1 1 1 0 1 1 1 0 1\n",
      " 0 1 1 1 1 0 1 1 0 0 1 0 0 1 1 1 1 1 0 1 1 0 1 1 1 1 0 1 1 1 1 1 1 0 1 1 1\n",
      " 0 0 1 0 1 0 1 1 1 1 1 1 0 1 0 1 1 1 0 0 0 1 1 1 1 1 1 1 0 1 1 1 1 0 0 0 0\n",
      " 1 0 1 1 0 0 1 1 1 0 1 1 1 1 0 1 1 0 0 0 1 1 0 1 1 1]\n",
      "y_hat (Tree): \n",
      "\t[1 1 1 1 1 1 0 1 0 0 0 1 1 0 1 0 1 1 1 0 1 0 0 0 0 1 1 1 1 1 1 1 0 1 1 0 1\n",
      " 0 1 1 0 1 0 1 1 1 1 0 0 1 0 1 1 0 1 1 1 1 1 0 0 1 1 1 1 0 0 1 1 1 1 0 1 1\n",
      " 1 1 1 0 1 0 1 1 1 0 0 0 0 0 1 0 1 1 1 0 0 1 1 1 1 1 0 0 1 1 0 1 1 0 0 1 0\n",
      " 1 1 0 1 1 1 0 1 0 1 1 1 1 0 1 0 0 1 1 1 1 0 1 1 1 1 1 1 0 1 0 0 0 0 1 0 1\n",
      " 0 0 1 1 0 1 1 0 0 0 0 0 1 1 0 1 1 1 1 1 1 1 0 1 1 0 0 1 1 1 1 0 1 1 1 0 1\n",
      " 0 1 1 1 0 0 1 1 0 0 0 0 0 1 0 1 1 1 0 1 1 0 1 1 0 1 0 1 1 1 1 1 1 0 1 1 0\n",
      " 0 0 1 0 1 0 1 1 1 1 1 1 0 1 0 1 1 0 0 0 0 1 1 1 1 1 1 1 0 1 1 1 1 0 0 0 0\n",
      " 1 0 1 1 0 0 1 1 1 0 1 1 1 1 0 1 1 0 0 0 1 1 1 1 1 1]\n",
      "Accuracy Score of Tree: 0.919\n",
      "y_hat (Forest): \n",
      "\t[1 1 1 1 1 1 1 1 0 0 0 1 1 0 1 0 1 1 1 0 1 0 0 0 0 1 0 1 1 1 1 1 0 1 1 0 1\n",
      " 0 0 1 0 1 0 1 1 1 1 0 0 1 0 1 1 0 0 1 1 1 1 0 0 1 1 1 1 0 0 1 1 1 1 0 1 1\n",
      " 1 1 1 0 1 0 1 1 1 0 0 0 0 0 1 0 1 1 1 0 0 1 1 1 1 1 0 0 1 1 0 1 1 0 0 1 0\n",
      " 1 0 0 1 1 1 0 1 0 1 1 1 1 0 1 0 0 1 1 1 1 0 1 0 1 1 1 1 0 1 0 0 1 0 1 0 1\n",
      " 0 0 1 1 0 1 1 0 1 0 0 0 1 1 0 1 1 0 1 1 1 1 0 1 1 0 0 1 1 1 1 0 1 1 1 0 1\n",
      " 0 1 1 1 1 0 1 1 0 0 1 0 0 1 0 1 1 1 0 1 1 0 0 1 1 1 0 1 1 1 1 1 1 0 1 1 0\n",
      " 0 0 1 0 1 0 1 1 1 1 1 1 0 1 0 1 1 1 0 0 0 1 1 1 1 1 1 1 0 1 1 1 1 0 0 0 0\n",
      " 1 0 1 1 0 0 1 1 1 0 1 1 1 1 0 1 1 0 0 0 1 1 0 1 1 1]\n",
      "Accuracy Score of Forest: 0.958\n"
     ]
    }
   ],
   "source": [
    "from sklearn import datasets\n",
    "from sklearn.model_selection import train_test_split\n",
    "\n",
    "dataset = datasets.load_breast_cancer()\n",
    "X = dataset.data\n",
    "y = dataset.target\n",
    "X_train, X_test, y_train, y_test = train_test_split(X, y, test_size=0.5, random_state=1234)\n",
    "\n",
    "\n",
    "forest = Forest(n_tree=3,max_depth=10)\n",
    "forest.fit(X_train, y_train)\n",
    "\n",
    "tree = Tree(max_depth=10)\n",
    "tree.fit(X_train, y_train)\n",
    "\n",
    "print(f'y_test: \\n\\t{y_test}')\n",
    "print(f'y_hat (Tree): \\n\\t{tree.predict(X_test)}')\n",
    "print(f'Accuracy Score of Tree: {tree.accuracy(X_test, y_test)}')\n",
    "print(f'y_hat (Forest): \\n\\t{forest.predict(X_test)}')\n",
    "print(f'Accuracy Score of Forest: {forest.accuracy(X_test, y_test)}')\n",
    "\n",
    "\n",
    "\n",
    "\n",
    "\n",
    "\n",
    "\n",
    "\n",
    "\n",
    "\n",
    "\n",
    "\n",
    "\n",
    "\n",
    "\n"
   ]
  }
 ],
 "metadata": {
  "kernelspec": {
   "display_name": "Python 3 (ipykernel)",
   "language": "python",
   "name": "python3"
  },
  "language_info": {
   "codemirror_mode": {
    "name": "ipython",
    "version": 3
   },
   "file_extension": ".py",
   "mimetype": "text/x-python",
   "name": "python",
   "nbconvert_exporter": "python",
   "pygments_lexer": "ipython3",
   "version": "3.10.1"
  }
 },
 "nbformat": 4,
 "nbformat_minor": 5
}
