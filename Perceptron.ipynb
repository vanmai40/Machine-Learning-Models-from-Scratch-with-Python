{
 "cells": [
  {
   "cell_type": "markdown",
   "id": "546a7811",
   "metadata": {},
   "source": [
    "# Perception\n",
    "A perceptron receives multiple input signals, and if the sum of the input signals exceed a certain threshold it either returns a signal or remains “silent” otherwise\n",
    "<img src=\"pics/perceptron1.png\" width=\"500\">\n",
    "\n",
    "$$\\mathbf{z} =  w_1x_{1} + \\dots + w_mx_{m} = \\sum_{j=1}^{m} x_{j}w_{j} \n",
    "$$\n",
    "## Vectorzied formular\n",
    "$$ \\mathbf{z}= \\mathbf{w}^T\\mathbf{x} + b$$\n",
    "with\n",
    "$$ \\mathbf{w} =\\begin{bmatrix}\n",
    "    w_{1}  \\\\\n",
    "    \\vdots \\\\\n",
    "    w_{m}\n",
    "\\end{bmatrix}\n",
    "\\quad  \\mathbf{x} = \\begin{bmatrix}\n",
    "    x_{1}  \\\\\n",
    "    \\vdots \\\\\n",
    "    x_{m}\n",
    "\\end{bmatrix}\n",
    "$$\n",
    "## Activation Function\n",
    "<img src=\"pics/perceptron2.png\" width=\"200\">\n",
    "$$\\begin{equation}\n",
    " g({\\mathbf{z}}) =\\begin{cases}\n",
    "    1 & \\text{if } \\mathbf{z} \\ge 0\\\\\n",
    "    -1 & \\text{otherwise}.\n",
    "  \\end{cases}\n",
    "\\end{equation}\n",
    "$$\n",
    "\n",
    "## Approximation\n",
    "$$h_{hat} = g(z)= g(\\mathbf{w}^T\\mathbf{x} + b)$$\n",
    "\n",
    "## Update rule\n",
    "$$w_j := w_j + \\Delta w_j$$\n",
    "with \n",
    "$$\\Delta w_j = \\alpha(\\mathbf{y}^{(i)} - \\mathbf{y}_{hat}^{(i)})\\;x^{(i)}_{j}$$\n",
    "$\\alpha : 0 ->1 $ is the learning rate"
   ]
  },
  {
   "cell_type": "code",
   "execution_count": 38,
   "id": "2b14c601",
   "metadata": {
    "ExecuteTime": {
     "end_time": "2022-02-18T15:29:26.904945Z",
     "start_time": "2022-02-18T15:29:26.886899Z"
    }
   },
   "outputs": [],
   "source": [
    "import numpy as np\n",
    "\n",
    "class Neuron:\n",
    "    def __init__(self, lr=0.01, epoch = 1000):\n",
    "        self.lr = lr\n",
    "        self.epoch = epoch\n",
    "        self.step_func = lambda x: int(np.where(x>0,1,0))\n",
    "        self.W = None\n",
    "        self.b = None\n",
    "        \n",
    "    \n",
    "        \n",
    "    def fit(self, X, y):\n",
    "        n_sample, n_feature = X.shape\n",
    "        self.W = np.zeros(n_feature)\n",
    "        self.b = 0\n",
    "        \n",
    "        y = np.array([self.step_func(i) for i in y])\n",
    "        \n",
    "        for _ in range(self.epoch):\n",
    "            for x, yi in zip(X,y):\n",
    "                y_hat = self.step_func(np.dot(self.W, x)+self.b)\n",
    "            \n",
    "                self.W += self.lr*x*(yi-y_hat)\n",
    "                self.b += self.lr*(yi-y_hat)\n",
    "                \n",
    "    \n",
    "    def predict(self,X):\n",
    "        y_hat = [self.step_func(np.dot(self.W, x)+self.b) for x in X]\n",
    "        return np.array(y_hat)\n",
    "    \n",
    "    def accuracy(self, X, y):\n",
    "        y_hat = self.predict(X)\n",
    "        return f'{sum(y_hat==y)/len(y):.3f}'\n"
   ]
  },
  {
   "cell_type": "code",
   "execution_count": 39,
   "id": "b6466918",
   "metadata": {
    "ExecuteTime": {
     "end_time": "2022-02-18T15:29:29.171583Z",
     "start_time": "2022-02-18T15:29:28.124312Z"
    }
   },
   "outputs": [
    {
     "name": "stdout",
     "output_type": "stream",
     "text": [
      "y_test: \n",
      "[1 0 1 1 0 0 1 1 1 0 1 0 0 0 1 0 1 1 0 1 1 1 1 1 0 0 1 0 0 0]\n",
      "y_hat: \n",
      "[1 0 1 1 0 0 1 1 1 0 1 0 0 0 1 0 1 1 0 1 1 1 1 1 0 0 1 0 0 0]\n",
      "Accuracy Score: 1.000\n"
     ]
    }
   ],
   "source": [
    "from sklearn import datasets\n",
    "from sklearn.model_selection import train_test_split\n",
    "import matplotlib.pyplot as plt\n",
    "\n",
    "X,y = datasets.make_blobs(n_samples=150,\n",
    "                                  n_features=2,\n",
    "                                  centers=2,\n",
    "                                  cluster_std=1.05,\n",
    "                                  random_state=2)\n",
    "X_train, X_test, y_train, y_test = train_test_split(X, y,\n",
    "                                                    test_size=0.2,\n",
    "                                                   random_state=123)\n",
    "\n",
    "\n",
    "\n",
    "\n",
    "model = Neuron()\n",
    "model.fit(X_train, y_train)\n",
    "print(f'y_test: \\n{y_test}')\n",
    "print(f'y_hat: \\n{model.predict(X_test)}')\n",
    "print(f'Accuracy Score: {model.accuracy(X_test, y_test)}')\n",
    "\n",
    "\n",
    "\n",
    "\n",
    "\n"
   ]
  }
 ],
 "metadata": {
  "kernelspec": {
   "display_name": "Python 3 (ipykernel)",
   "language": "python",
   "name": "python3"
  },
  "language_info": {
   "codemirror_mode": {
    "name": "ipython",
    "version": 3
   },
   "file_extension": ".py",
   "mimetype": "text/x-python",
   "name": "python",
   "nbconvert_exporter": "python",
   "pygments_lexer": "ipython3",
   "version": "3.10.1"
  }
 },
 "nbformat": 4,
 "nbformat_minor": 5
}
