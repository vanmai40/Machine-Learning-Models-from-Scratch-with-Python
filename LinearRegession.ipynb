{
 "cells": [
  {
   "cell_type": "markdown",
   "id": "c530c7ef",
   "metadata": {},
   "source": [
    "# Linear Regression\n",
    "<img src=\"pics\\lr.pic1.png\" width=\"600\">\n",
    "\n",
    "## Mean Squared Error\n",
    "$$MSE =  \\frac{1}{N} \\sum_{i=1}^{n} (y_i - (m x_i + b))^2$$ <br>\n",
    "N is the total number of observations (data points) <br>\n",
    "$\\frac{1}{N} \\sum_{i=1}^{n}$ is the mean <br>\n",
    "$y_i$ is the actual value of an observation and $mx_i+b$ is our prediction\n",
    "\n",
    "## Gradient descent (to minimize MSE)\n",
    "\n",
    "\n",
    "<img src=\"pics\\lr.pic2.png\" width=\"400\">\n",
    "\n",
    "Squared Error: $f(m,b) = (y_i - (mx_i + b))^2 = A(B(m,b))$ <br>\n",
    "\n",
    "\\begin{align}\\begin{aligned}\n",
    "\\frac{df}{dm} = 2(y_i - (mx_i + b)) \\cdot -x_i\\\\\\frac{df}{db} =  2(y_i - (mx_i + b)) \\cdot -1\n",
    "\\end{aligned}\\end{align}\n",
    "\n",
    "\\begin{split}\\begin{align}\n",
    "f'(m,b) =\n",
    "  \\begin{bmatrix}\n",
    "    \\frac{df}{dm}\\\\\n",
    "    \\frac{df}{db}\\\\\n",
    "  \\end{bmatrix}\n",
    "&=\n",
    "  \\begin{bmatrix}\n",
    "    \\frac{1}{N} \\sum -x_i \\cdot 2(y_i - (mx_i + b)) \\\\\n",
    "    \\frac{1}{N} \\sum -1 \\cdot 2(y_i - (mx_i + b)) \\\\\n",
    "  \\end{bmatrix}\\\\\n",
    "&=\n",
    "  \\begin{bmatrix}\n",
    "     \\frac{1}{N} \\sum -2x_i(y_i - (mx_i + b)) \\\\\n",
    "     \\frac{1}{N} \\sum -2(y_i - (mx_i + b)) \\\\\n",
    "  \\end{bmatrix}\n",
    "\\end{align}\\end{split}\n",
    "## Update Rules\n",
    "<img src=\"pics\\lr.pic3.png\" width=\"800\">"
   ]
  },
  {
   "cell_type": "code",
   "execution_count": 32,
   "id": "343aa9ea",
   "metadata": {
    "ExecuteTime": {
     "end_time": "2022-02-06T20:55:50.163433Z",
     "start_time": "2022-02-06T20:55:50.158369Z"
    }
   },
   "outputs": [],
   "source": [
    "class LinearRegressor:\n",
    "    def __init__(self, lr=0.01, n_iters=1000):\n",
    "        self.lr = lr\n",
    "        self.n_iters = n_iters\n",
    "        self.W = None\n",
    "        self.b = None\n",
    "\n",
    "    def fit(self, X, y):\n",
    "        n_samples, n_features = X.shape\n",
    "        self.W = np.zeros(n_features)\n",
    "        self.b = 0\n",
    "        \n",
    "        for _ in range(self.n_iters):\n",
    "            # X is 2D array, \n",
    "            # W, dw is 1D array\n",
    "            # b, db is 0D array\n",
    "            y_hat = np.dot(X, self.W) + self.b # 1D array\n",
    "            dW = np.dot(X.T,(y_hat-y))*2/n_samples #1D array\n",
    "            db = sum((y_hat-y))*2/n_samples #scalar\n",
    "            \n",
    "            self.W -= self.lr*dW\n",
    "            self.b -= self.lr*db\n",
    "            \n",
    "        pass\n",
    "    \n",
    "    def predict(self, X):\n",
    "        y_hat = np.dot(X, self.W) + self.b\n",
    "        return y_hat\n",
    "    \n",
    "    def MSE(self, X, y):\n",
    "        mse = sum(np.square((self.predict(X) - y)))/X.shape[0]\n",
    "        return mse\n",
    "    "
   ]
  },
  {
   "cell_type": "code",
   "execution_count": 20,
   "id": "a3910511",
   "metadata": {
    "ExecuteTime": {
     "end_time": "2022-02-06T20:51:02.293424Z",
     "start_time": "2022-02-06T20:51:02.224031Z"
    },
    "scrolled": true
   },
   "outputs": [
    {
     "data": {
      "image/png": "[encoded data removed]",
      "text/plain": [
       "<Figure size 432x288 with 1 Axes>"
      ]
     },
     "metadata": {
      "needs_background": "light"
     },
     "output_type": "display_data"
    }
   ],
   "source": [
    "import numpy as np\n",
    "from sklearn import datasets\n",
    "from sklearn.model_selection import train_test_split\n",
    "import matplotlib.pyplot as plt\n",
    "\n",
    "\n",
    "X, y = datasets.make_regression(n_samples=100, \n",
    "                                n_features=1, \n",
    "                                noise=20, \n",
    "                                random_state=4)\n",
    "X_train, X_test, y_train, y_test = train_test_split(X, y, \n",
    "                                                    test_size= 0.2,\n",
    "                                                    random_state=1234)\n",
    "fig = plt.figure(figsize=(6,4))\n",
    "plt.scatter(X[:,0], y)\n",
    "plt.show()"
   ]
  },
  {
   "cell_type": "code",
   "execution_count": 46,
   "id": "b65f189e",
   "metadata": {
    "ExecuteTime": {
     "end_time": "2022-02-06T20:57:10.222435Z",
     "start_time": "2022-02-06T20:57:10.134649Z"
    }
   },
   "outputs": [
    {
     "name": "stdout",
     "output_type": "stream",
     "text": [
      "[  89.5978923    33.21708479  -58.51318402  -82.91713341   40.69772522\n",
      " -100.73717846   -1.65856494  163.94385144    5.26394625  -77.78704394\n",
      "    9.20267903   36.86598297   -5.54348338   31.43120085   64.53968736\n",
      "  -44.1299115   -74.76820338   50.92876904   28.14443518   17.68768961]\n",
      "[  90.07911867   65.22240301  -45.69498186  -82.49167298   20.93910431\n",
      "  -73.92513193  -14.90998903  151.65799643   14.01724561 -102.29561058\n",
      "   15.56851863   41.60448602   26.20320259   38.12125411   37.38360674\n",
      "  -37.35823254  -83.12683724   26.30425075   38.13183211   29.45312701]\n",
      "305.77413160852427\n"
     ]
    },
    {
     "data": {
      "text/plain": [
       "<matplotlib.collections.PathCollection at 0x209d06624d0>"
      ]
     },
     "execution_count": 46,
     "metadata": {},
     "output_type": "execute_result"
    },
    {
     "data": {
      "image/png": "[encoded data removed]",
      "text/plain": [
       "<Figure size 432x288 with 1 Axes>"
      ]
     },
     "metadata": {
      "needs_background": "light"
     },
     "output_type": "display_data"
    }
   ],
   "source": [
    "model = LinearRegressor(lr=0.01)\n",
    "model.fit(X_train, y_train)\n",
    "print(y_test)\n",
    "print(model.predict(X_test))\n",
    "print(model.MSE(X_test, y_test))\n",
    "\n",
    "plt.plot(X, model.predict(X), color='red')\n",
    "plt.scatter(X, y)"
   ]
  }
 ],
 "metadata": {
  "kernelspec": {
   "display_name": "Python 3 (ipykernel)",
   "language": "python",
   "name": "python3"
  },
  "language_info": {
   "codemirror_mode": {
    "name": "ipython",
    "version": 3
   },
   "file_extension": ".py",
   "mimetype": "text/x-python",
   "name": "python",
   "nbconvert_exporter": "python",
   "pygments_lexer": "ipython3",
   "version": "3.10.1"
  }
 },
 "nbformat": 4,
 "nbformat_minor": 5
}
